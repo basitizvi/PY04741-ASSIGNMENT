{
 "cells": [
  {
   "cell_type": "code",
   "execution_count": 3,
   "metadata": {},
   "outputs": [
    {
     "name": "stdout",
     "output_type": "stream",
     "text": [
      "twinkle, twinkle, little star,\n",
      "\t how is wonder what  you are!\n",
      "\t\t up above the world so high,\n",
      "\t\t like a diamond in the sky\n",
      "twinkle, twinkle, little star,\n",
      "\t how is wonder what  you are!\n"
     ]
    }
   ],
   "source": [
    "print(\"twinkle, twinkle, little star,\")\n",
    "print(\"\\t how is wonder what  you are!\")\n",
    "print(\"\\t\\t up above the world so high,\")\n",
    "print(\"\\t\\t like a diamond in the sky\")\n",
    "print(\"twinkle, twinkle, little star,\")\n",
    "print(\"\\t how is wonder what  you are!\")\n"
   ]
  },
  {
   "cell_type": "code",
   "execution_count": 6,
   "metadata": {},
   "outputs": [
    {
     "name": "stdout",
     "output_type": "stream",
     "text": [
      "2\n",
      "3\n",
      "5\n"
     ]
    }
   ],
   "source": [
    "x=int(input())\n",
    "y=int(input())\n",
    "print (x+y)"
   ]
  },
  {
   "cell_type": "code",
   "execution_count": 13,
   "metadata": {},
   "outputs": [
    {
     "data": {
      "text/plain": [
       "3"
      ]
     },
     "execution_count": 13,
     "metadata": {},
     "output_type": "execute_result"
    }
   ],
   "source": [
    "python_version=int(str(range(3))[-2])\n",
    "python_version"
   ]
  },
  {
   "cell_type": "code",
   "execution_count": 20,
   "metadata": {},
   "outputs": [
    {
     "name": "stdout",
     "output_type": "stream",
     "text": [
      "2019-11-04 04:43:26.572996\n"
     ]
    }
   ],
   "source": [
    "import datetime\n",
    "now = datetime.datetime.now()\n",
    "\n",
    "print(now)"
   ]
  },
  {
   "cell_type": "code",
   "execution_count": 21,
   "metadata": {},
   "outputs": [
    {
     "name": "stdout",
     "output_type": "stream",
     "text": [
      "2\n",
      "12.5692\n"
     ]
    }
   ],
   "source": [
    "x=int(input())\n",
    "area= (3.1423 * (x*x))\n",
    "print (area)\n"
   ]
  },
  {
   "cell_type": "code",
   "execution_count": 26,
   "metadata": {},
   "outputs": [
    {
     "name": "stdout",
     "output_type": "stream",
     "text": [
      "What is your last name?:basit\n",
      "What is your last?ali\n",
      "tisab ila\n"
     ]
    }
   ],
   "source": [
    "firstname = input(\"What is your last name?:\")\n",
    "lastname = input(\"What is your last?\")\n",
    "print(firstname[::-1] + \" \" + lastname[::-1])"
   ]
  },
  {
   "cell_type": "code",
   "execution_count": null,
   "metadata": {},
   "outputs": [],
   "source": []
  }
 ],
 "metadata": {
  "kernelspec": {
   "display_name": "Python 3",
   "language": "python",
   "name": "python3"
  },
  "language_info": {
   "codemirror_mode": {
    "name": "ipython",
    "version": 3
   },
   "file_extension": ".py",
   "mimetype": "text/x-python",
   "name": "python",
   "nbconvert_exporter": "python",
   "pygments_lexer": "ipython3",
   "version": "3.7.4"
  }
 },
 "nbformat": 4,
 "nbformat_minor": 2
}
