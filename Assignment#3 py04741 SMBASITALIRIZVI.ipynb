{
 "cells": [
  {
   "cell_type": "code",
   "execution_count": 2,
   "metadata": {},
   "outputs": [
    {
     "name": "stdout",
     "output_type": "stream",
     "text": [
      "******************************\n",
      "Calculator\n",
      "******************************\n",
      "enter operator ^\n",
      "enter 1st value2\n",
      "enter 2nd value 3\n",
      "8.0 answer\n"
     ]
    }
   ],
   "source": [
    "import math\n",
    "print('******************************')\n",
    "print('Calculator')\n",
    "print('******************************')\n",
    "operator =input(\"enter operator \")\n",
    "val1=int(input(\"enter 1st value\"))\n",
    "val2=int(input(\"enter 2nd value \"))\n",
    "if operator=='+':\n",
    "    val1=val1+val2\n",
    "    print(val1,'answer')\n",
    "elif operator=='-':\n",
    "    val1=val1-val2\n",
    "    print(val1,'answer')\n",
    "elif operator=='*':\n",
    "    val1=val1*val2\n",
    "    print(val1,'answer')\n",
    "elif operator=='/':\n",
    "    val1=val1/val2\n",
    "    print(val1,'answer')\n",
    "elif operator=='^':\n",
    "    power=math.pow(val1,val2)\n",
    "    print(power,'answer')    \n",
    "else:\n",
    "    print(\"enter correct value\")"
   ]
  },
  {
   "cell_type": "code",
   "execution_count": 3,
   "metadata": {},
   "outputs": [
    {
     "name": "stdout",
     "output_type": "stream",
     "text": [
      "9\n",
      "No numeric value found\n",
      "No numeric value found\n",
      "89\n",
      "No numeric value found\n"
     ]
    }
   ],
   "source": [
    "list=[9,'basit','ali',89,'hello']\n",
    "for x in list:\n",
    "    if (isinstance(x,int)):\n",
    "        print(x)\n",
    "    else:\n",
    "        print('No numeric value found')"
   ]
  },
  {
   "cell_type": "code",
   "execution_count": 4,
   "metadata": {},
   "outputs": [
    {
     "name": "stdout",
     "output_type": "stream",
     "text": [
      "{'key': 'value'}\n",
      "Please Enter NEW KEYBASIT\n",
      "Please Enter NEW VALUE1\n",
      "{'key': 'value', 'BASIT': '1'}\n"
     ]
    }
   ],
   "source": [
    "d = {'key':'value'}\n",
    "print(d)\n",
    "# {'key': 'value'}\n",
    "key=input('Please Enter NEW KEY')\n",
    "VALUE=input('Please Enter NEW VALUE')\n",
    "d[key] = VALUE\n",
    "print(d)"
   ]
  },
  {
   "cell_type": "code",
   "execution_count": 5,
   "metadata": {},
   "outputs": [
    {
     "name": "stdout",
     "output_type": "stream",
     "text": [
      "19\n"
     ]
    }
   ],
   "source": [
    "d = {'key1': 1,'key2': 14,'key3': 4}\n",
    "w=sum(d.values())\n",
    "print(w)"
   ]
  },
  {
   "cell_type": "code",
   "execution_count": 6,
   "metadata": {},
   "outputs": [
    {
     "name": "stdout",
     "output_type": "stream",
     "text": [
      "[3, 2, 40]\n"
     ]
    }
   ],
   "source": [
    "lst=[2,3,3,2,1,5,6,40,30,40]\n",
    "dupItems = []\n",
    "uniqItems = {}\n",
    "for x in lst:\n",
    "   if x not in uniqItems:\n",
    "      uniqItems[x] = 1\n",
    "   else:\n",
    "      if uniqItems[x] == 1:\n",
    "         dupItems.append(x)\n",
    "      uniqItems[x] += 1\n",
    "print(dupItems)"
   ]
  },
  {
   "cell_type": "code",
   "execution_count": 7,
   "metadata": {},
   "outputs": [
    {
     "name": "stdout",
     "output_type": "stream",
     "text": [
      "find the key in dict =this\n",
      "Yes  key exists in dict\n"
     ]
    }
   ],
   "source": [
    "wordFreqDic = {\n",
    "    \"Hello\": 56,\n",
    "    \"at\" : 23 ,\n",
    "    \"test\" : 43,\n",
    "    \"this\" : 78\n",
    "    }\n",
    "D=input('find the key in dict =')\n",
    "if D in wordFreqDic:\n",
    "    print(\"Yes  key exists in dict\")\n",
    "else:\n",
    "    print(\"No  key does not exists in dict\")  "
   ]
  },
  {
   "cell_type": "code",
   "execution_count": null,
   "metadata": {},
   "outputs": [],
   "source": []
  }
 ],
 "metadata": {
  "kernelspec": {
   "display_name": "Python 3",
   "language": "python",
   "name": "python3"
  },
  "language_info": {
   "codemirror_mode": {
    "name": "ipython",
    "version": 3
   },
   "file_extension": ".py",
   "mimetype": "text/x-python",
   "name": "python",
   "nbconvert_exporter": "python",
   "pygments_lexer": "ipython3",
   "version": "3.7.4"
  }
 },
 "nbformat": 4,
 "nbformat_minor": 2
}
