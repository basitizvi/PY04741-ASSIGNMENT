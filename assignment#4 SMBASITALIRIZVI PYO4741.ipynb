{
 "cells": [
  {
   "cell_type": "code",
   "execution_count": 1,
   "metadata": {},
   "outputs": [
    {
     "name": "stdout",
     "output_type": "stream",
     "text": [
      "{'person1': {'first_name': 'hammid', 'last_name': 'rizvi', 'age': '43', 'city': 'hariyana', 'qualification': 'bs'}, 'person2': {'first_name': 'hammad', 'last_name': 'khan', 'age': '34', 'city': 'utar pardash', 'qualification': 'ms'}, 'person3': {'first_name': 'masood', 'last_name': 'ik', 'age': '32', 'city': 'hariyana', 'qualification': 'bba'}}\n",
      "{'person1': {'first_name': 'hammid', 'last_name': 'rizvi', 'age': '43', 'city': 'hariyana', 'qualification': 'bs'}, 'person2': {'first_name': 'hammad', 'last_name': 'khan', 'age': '34', 'city': 'utar pardash', 'qualification': 'ms'}, 'person3': {'first_name': 'masood', 'last_name': 'ik', 'age': '32', 'city': 'hariyana'}}\n"
     ]
    }
   ],
   "source": [
    "person={\n",
    "    \"person1\": {\n",
    "      \"first_name\":'hammid',\n",
    "      \"last_name\":'rizvi',\n",
    "      \"age\":'43',\n",
    "      \"city\":'hariyana'}, \n",
    "    \"person2\":{ \"first_name\":'hammad',\n",
    "      \"last_name\":'khan',\n",
    "      \"age\":'34',\n",
    "      \"city\":'utar pardash'}, \n",
    "    \"person3\":{ \"first_name\":'masood',\n",
    "      \"last_name\":'ik',\n",
    "      \"age\":'32',\n",
    "      \"city\":'hariyana'}\n",
    "    \n",
    "    }\n",
    "  \n",
    "person['person1'] [\"qualification\"]=\"bs\"\n",
    "person['person2'] [\"qualification\"]=\"ms\"\n",
    "person['person3'] [\"qualification\"]=\"bba\"\n",
    "#person [person1][\"qualifiication\"]=\"bscs\"\n",
    "\n",
    "    \n",
    "#person.append(new_person)\n",
    "print(person)\n",
    "\n",
    "del person['person3'][\"qualification\"]\n",
    "\n",
    "print(person)\n",
    "#del c_2908[\"counrty\"]#del item\n",
    "\n",
    "#dict mein append nhi hota"
   ]
  },
  {
   "cell_type": "code",
   "execution_count": 2,
   "metadata": {},
   "outputs": [
    {
     "name": "stdout",
     "output_type": "stream",
     "text": [
      "{'multan': {'country': 'pk', 'population': '2345', 'fact': 'awesome'}, 'karachi': {'country': 'pk', 'population': 2345, 'fact': 'awesome'}, 'islamabad': {'country': 'pk', 'population': 2345, 'fact': 'awesome'}}\n",
      "print specific cities\n",
      "{'country': 'pk', 'population': 2345, 'fact': 'awesome'}\n"
     ]
    }
   ],
   "source": [
    "cities={\n",
    "    \"multan\":{\n",
    "        \"country\":\"pk\",\n",
    "        \"population\":\"2345\",\n",
    "        \"fact\":\"awesome\"\n",
    "    },\n",
    "    \"karachi\":{\n",
    "        \"country\":\"pk\",\n",
    "        \"population\":2345,\n",
    "        \"fact\":\"awesome\"\n",
    "    },\n",
    "    \"islamabad\":{\n",
    "        \"country\":\"pk\",\n",
    "        \"population\":2345,\n",
    "        \"fact\":\"awesome\"\n",
    "    }\n",
    "    \n",
    "}\n",
    "\n",
    "print(cities)\n",
    "print(\"print specific cities\")\n",
    "print(cities['karachi'])"
   ]
  },
  {
   "cell_type": "code",
   "execution_count": 3,
   "metadata": {},
   "outputs": [
    {
     "name": "stdout",
     "output_type": "stream",
     "text": [
      "How old are you?\n",
      "Enter 'quit' when you are finished. 6\n",
      "  Your ticket is $10.\n",
      "How old are you?\n",
      "Enter 'quit' when you are finished. 2\n",
      "  You get in free!\n",
      "How old are you?\n",
      "Enter 'quit' when you are finished. 16\n",
      "  Your ticket is $15.\n",
      "How old are you?\n",
      "Enter 'quit' when you are finished. quit\n"
     ]
    }
   ],
   "source": [
    "prompt = \"How old are you?\"\n",
    "prompt += \"\\nEnter 'quit' when you are finished. \"\n",
    "\n",
    "while True:\n",
    "    age = input(prompt)\n",
    "    if age == 'quit':\n",
    "        break\n",
    "    age = int(age)\n",
    "\n",
    "    if age < 3:\n",
    "        print(\"  You get in free!\")\n",
    "    elif age < 13:\n",
    "        print(\"  Your ticket is $10.\")\n",
    "    else:\n",
    "        print(\"  Your ticket is $15.\")\n"
   ]
  },
  {
   "cell_type": "code",
   "execution_count": 4,
   "metadata": {},
   "outputs": [
    {
     "name": "stdout",
     "output_type": "stream",
     "text": [
      "one of my favorite book is Alice in wonderland\n"
     ]
    }
   ],
   "source": [
    "def favorite_book(title):\n",
    "    print(\"one of my favorite book is Alice in wonderland\")\n",
    "\n",
    "favorite_book(\"one men\")"
   ]
  },
  {
   "cell_type": "code",
   "execution_count": 5,
   "metadata": {},
   "outputs": [
    {
     "name": "stdout",
     "output_type": "stream",
     "text": [
      "Hello! What is your name?\n",
      "basit\n",
      "Well, basit, I am thinking of a number between 1 and 20.\n",
      "Take a guess.\n",
      "2\n",
      "Your guess is too low.\n",
      "Take a guess.\n",
      "13\n",
      "Your guess is too high.\n",
      "Take a guess.\n",
      "10\n",
      "Your guess is too high.\n",
      "Take a guess.\n",
      "9\n",
      "Your guess is too high.\n",
      "Take a guess.\n",
      "8\n",
      "Your guess is too high.\n",
      "Take a guess.\n",
      "7\n",
      "Good job, basit! You guessed my number in 6 guesses!\n"
     ]
    }
   ],
   "source": [
    "import random\n",
    "guessesTaken = 0\n",
    "\n",
    "print('Hello! What is your name?')\n",
    "myName = input()\n",
    "number = random.randint(1, 20)\n",
    "print('Well, ' + myName + ', I am thinking of a number between 1 and 20.')\n",
    "\n",
    "while guessesTaken < 6:\n",
    "    print('Take a guess.') # There are four spaces in front of print.\n",
    "    guess = input()\n",
    "    guess = int(guess)\n",
    "    guessesTaken = guessesTaken + 1\n",
    "     \n",
    "    if guess < number:\n",
    "            print('Your guess is too low.') # There are eight spaces in front of print.\n",
    "    if guess > number:\n",
    "            print('Your guess is too high.')\n",
    "    if guess == number:\n",
    "            break\n",
    "\n",
    "if guess == number:\n",
    "    guessesTaken = str(guessesTaken)\n",
    "    print('Good job, ' + myName + '! You guessed my number in ' + guessesTaken + ' guesses!')\n",
    "if guess != number:\n",
    "    number = str(number)\n",
    "    print('Nope. The number I was thinking of was ' + number)"
   ]
  },
  {
   "cell_type": "code",
   "execution_count": null,
   "metadata": {},
   "outputs": [],
   "source": []
  }
 ],
 "metadata": {
  "kernelspec": {
   "display_name": "Python 3",
   "language": "python",
   "name": "python3"
  },
  "language_info": {
   "codemirror_mode": {
    "name": "ipython",
    "version": 3
   },
   "file_extension": ".py",
   "mimetype": "text/x-python",
   "name": "python",
   "nbconvert_exporter": "python",
   "pygments_lexer": "ipython3",
   "version": "3.7.4"
  }
 },
 "nbformat": 4,
 "nbformat_minor": 2
}
